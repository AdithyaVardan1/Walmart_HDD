{
 "cells": [
  {
   "cell_type": "code",
   "execution_count": null,
   "metadata": {},
   "outputs": [],
   "source": [
    "import pandas as pd\n",
    "import numpy as np\n",
    "from time import time\n"
   ]
  },
  {
   "cell_type": "code",
   "execution_count": null,
   "metadata": {},
   "outputs": [],
   "source": [
    "from sklearn.ensemble import RandomForestClassifier\n",
    "from sklearn.neural_network import MLPClassifier\n"
   ]
  },
  {
   "cell_type": "code",
   "execution_count": null,
   "metadata": {},
   "outputs": [],
   "source": [
    "from sklearn.model_selection import train_test_split\n",
    "from sklearn.metrics import classification_report\n",
    "from sklearn.metrics import accuracy_score\n",
    "from sklearn.utils import resample\n",
    "from collections import Counter\n",
    "from sklearn import metrics \n",
    "from sklearn.model_selection import RandomizedSearchCV\n"
   ]
  },
  {
   "cell_type": "code",
   "execution_count": null,
   "metadata": {},
   "outputs": [],
   "source": [
    "def split_train_validation_test_data(root=\"./\", drive_file=\"/ST12000NM0007_lastlast\",  \n",
    "                                     ignore_columns=[\"date\", \"serial_number\", \"model\", \"capacity_bytes\", \"failure\"], \n",
    "                                     resample_data=False, smote_data=False):\n",
    "\n",
    "    df = pd.read_csv(root + drive_file, parse_dates=True)\n",
    "\n",
    "    df_good = df.loc[df['failure'] == 0]\n",
    "    df_bad = df.loc[df['failure'] == 1]\n",
    "     \n",
    "    df_good = df_good.sort_values([\"date\"])\n",
    "    df_bad = df_bad.sort_values([\"date\"])\n",
    "\n",
    "    good_y = df_good[\"failure\"]\n",
    "    bad_y = df_bad[\"failure\"]\n",
    "\n",
    "    X_train_good, X_test_good, y_train_good, y_test_good = train_test_split(\n",
    "        df_good, good_y, train_size=0.8, shuffle=False)\n",
    "    X_train_bad, X_test_bad, y_train_bad, y_test_bad = train_test_split(\n",
    "        df_bad, bad_y, train_size=0.8, shuffle=False)\n",
    "\n",
    "\n",
    "    if resample_data:\n",
    "        X_train_bad = resample(df_bad, replace=True, n_samples=len(X_train_good), random_state=1)\n",
    "        X_train_bad = X_train_bad.sort_values([\"date\"])\n",
    "\n",
    "    y_train_bad = X_train_bad[\"failure\"]\n",
    "\n",
    "    X_train = pd.concat([X_train_good, X_train_bad], axis=0)\n",
    "    y_train = pd.concat([y_train_good, y_train_bad], axis=0)\n",
    "\n",
    "    X_test = pd.concat([X_test_good, X_test_bad], axis=0)\n",
    "    y_test = pd.concat([y_test_good, y_test_bad], axis=0)\n",
    "\n",
    "    X_train.drop(columns=ignore_columns, inplace=True, axis=1)\n",
    "\n",
    "    X_test.drop(columns=ignore_columns, inplace=True, axis=1)\n",
    "\n",
    "    if smote_data:\n",
    "        sm = SMOTE(random_state=42)\n",
    "        X_train, y_train = sm.fit_resample(X_train, y_train)\n",
    "\n",
    "    return (X_train, X_test, y_train, y_test)"
   ]
  },
  {
   "cell_type": "code",
   "execution_count": null,
   "metadata": {},
   "outputs": [],
   "source": [
    "def sort_data_by_date(file_path):\n",
    "    df = pd.read_csv(file_path, parse_dates=True)\n",
    "    sorted_df = df.sort_values([\"date\"])\n",
    "    return sorted_df"
   ]
  },
  {
   "cell_type": "code",
   "execution_count": null,
   "metadata": {},
   "outputs": [],
   "source": [
    "def random_tune_random_forest():\n",
    "    rf = RandomForestClassifier(random_state=1)\n",
    "    n_estimators = [int(x) for x in np.linspace(start=200, stop=2000, num=10)]\n",
    "    \n",
    "    max_features = ['auto', 'sqrt']\n",
    "    max_depth = [int(x) for x in np.linspace(10, 110, num=11)]\n",
    "    max_depth.append(None)\n",
    "    min_samples_split = [2, 5, 10]\n",
    "    min_samples_leaf = [1, 2, 4]\n",
    "    bootstrap = [True, False]\n",
    "    criterion = [\"gini\", \"entropy\"]\n",
    "    \n",
    "    random_grid = {'n_estimators': n_estimators,\n",
    "                   'max_features': max_features,\n",
    "                   'max_depth': max_depth,\n",
    "                   'min_samples_split': min_samples_split,\n",
    "                   'min_samples_leaf': min_samples_leaf,\n",
    "                   'bootstrap': bootstrap,\n",
    "                   'criterion': criterion\n",
    "                   }\n",
    "    \n",
    "    rf_random = RandomizedSearchCV(\n",
    "        estimator=rf, \n",
    "        param_distributions=random_grid, \n",
    "        n_iter=100, \n",
    "        cv=3, \n",
    "        verbose=2, \n",
    "        random_state=1, \n",
    "        n_jobs=-1, \n",
    "        scoring=[\"f1\", \"accuracy\"], \n",
    "        refit=\"f1\"\n",
    "    )\n",
    "    \n",
    "    return rf_random\n",
    "    "
   ]
  },
  {
   "cell_type": "code",
   "execution_count": null,
   "metadata": {},
   "outputs": [],
   "source": [
    "def run(models=[RandomForestClassifier(max_depth=2, random_state=0)], tune_model=False):\n",
    "\n",
    "    X_train, X_test, y_train, y_test = split_train_validation_test_data(drive_file=\"/ST12000NM0007_rawlast.csv\", resample_data=True)\n",
    "    \n",
    "    print(\"Data done\")\n",
    "    for model in models:  \n",
    "        print(\"\\n\\n *\", type(model)._name_) \n",
    "\n",
    "        start = time()\n",
    "        model.fit(X_train, y_train)\n",
    "        end = time()\n",
    "        print(\"\\nTime to train:\", str((end - start)/60), \" mins\")\n",
    "        \n",
    "        print(model.best_params_)\n",
    "        # Test set results\n",
    "        print(\"\\n- Results on test set: \")\n",
    "        y_pred = model.predict(X_test)\n",
    "        print(\"Accuracy: \", accuracy_score(y_test, y_pred))\n",
    "        print(\"Scores:\\n\", classification_report(y_test, y_pred))\n"
   ]
  },
  {
   "cell_type": "code",
   "execution_count": null,
   "metadata": {},
   "outputs": [],
   "source": [
    "if __name__ == \"_main_\":\n",
    "    models_list = []\n",
    "    rf = random_tune_random_forest()\n",
    "    models_list.append(rf)\n",
    "    run(models_list, tune_model=True)"
   ]
  },
  {
   "cell_type": "code",
   "execution_count": null,
   "metadata": {},
   "outputs": [],
   "source": [
    "def run_random_forest_10(file_path=\"/ST12000NM0007_rawlast.csv\"):\n",
    "\n",
    "    model = RandomForestClassifier(\n",
    "        n_estimators=2000, \n",
    "        min_samples_split=5, \n",
    "        min_samples_leaf=4,\n",
    "        max_features='auto', \n",
    "        max_depth=40, \n",
    "        criterion='entropy',\n",
    "        bootstrap=True\n",
    "    )\n",
    "    X_train, X_test, y_train, y_test = split_train_validation_test_data(drive_file=file_path, resample_data=True)\n",
    "    \n",
    "    print(\"Data donen\")\n",
    "    print(\"\\n\\n *\", type(model)._name_)  \n",
    "\n",
    "    start = time()\n",
    "    model.fit(X_train, y_train)\n",
    "    end = time()\n",
    "    print(\"\\nTime to train:\", str((end - start)/60), \" mins\")\n",
    "    \n",
    "    # Test set results\n",
    "    print(\"\\n- Results on test set: \")\n",
    "    y_pred = model.predict(X_test)\n",
    "    print(\"Accuracy: \", accuracy_score(y_test, y_pred))\n",
    "    print(\"Scores:\\n\", classification_report(y_test, y_pred))\n",
    "    "
   ]
  },
  {
   "cell_type": "code",
   "execution_count": null,
   "metadata": {},
   "outputs": [],
   "source": [
    "run_random_forest_10(\"/ST12000NM0007_lastlast.csv\")"
   ]
  }
 ],
 "metadata": {
  "file_extension": ".py",
  "kernelspec": {
   "display_name": "Python 3",
   "language": "python",
   "name": "python3"
  },
  "language_info": {
   "codemirror_mode": {
    "name": "ipython",
    "version": 3
   },
   "file_extension": ".py",
   "mimetype": "text/x-python",
   "name": "python",
   "nbconvert_exporter": "python",
   "pygments_lexer": "ipython3",
   "version": "3.7.4"
  },
  "mimetype": "text/x-python",
  "name": "python",
  "npconvert_exporter": "python",
  "pygments_lexer": "ipython3",
  "version": 3
 },
 "nbformat": 4,
 "nbformat_minor": 2
}
